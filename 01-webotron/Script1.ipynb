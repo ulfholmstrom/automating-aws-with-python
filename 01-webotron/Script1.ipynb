{
 "cells": [
  {
   "cell_type": "code",
   "execution_count": 1,
   "metadata": {},
   "outputs": [],
   "source": [
    "import boto3"
   ]
  },
  {
   "cell_type": "code",
   "execution_count": 2,
   "metadata": {},
   "outputs": [],
   "source": [
    "session = boto3.Session(profile_name = 'pythonAutomation')"
   ]
  },
  {
   "cell_type": "code",
   "execution_count": 3,
   "metadata": {},
   "outputs": [
    {
     "data": {
      "text/plain": [
       "['default', 'pythonAutomation']"
      ]
     },
     "execution_count": 3,
     "metadata": {},
     "output_type": "execute_result"
    }
   ],
   "source": [
    "session.available_profiles"
   ]
  },
  {
   "cell_type": "code",
   "execution_count": 4,
   "metadata": {},
   "outputs": [],
   "source": [
    "s3 = session.resource('s3')"
   ]
  },
  {
   "cell_type": "code",
   "execution_count": 5,
   "metadata": {},
   "outputs": [
    {
     "data": {
      "text/plain": [
       "['Bucket',\n",
       " 'BucketAcl',\n",
       " 'BucketCors',\n",
       " 'BucketLifecycle',\n",
       " 'BucketLifecycleConfiguration',\n",
       " 'BucketLogging',\n",
       " 'BucketNotification',\n",
       " 'BucketPolicy',\n",
       " 'BucketRequestPayment',\n",
       " 'BucketTagging',\n",
       " 'BucketVersioning',\n",
       " 'BucketWebsite',\n",
       " 'MultipartUpload',\n",
       " 'MultipartUploadPart',\n",
       " 'Object',\n",
       " 'ObjectAcl',\n",
       " 'ObjectSummary',\n",
       " 'ObjectVersion',\n",
       " '__class__',\n",
       " '__delattr__',\n",
       " '__dict__',\n",
       " '__dir__',\n",
       " '__doc__',\n",
       " '__eq__',\n",
       " '__format__',\n",
       " '__ge__',\n",
       " '__getattribute__',\n",
       " '__gt__',\n",
       " '__hash__',\n",
       " '__init__',\n",
       " '__init_subclass__',\n",
       " '__le__',\n",
       " '__lt__',\n",
       " '__module__',\n",
       " '__ne__',\n",
       " '__new__',\n",
       " '__reduce__',\n",
       " '__reduce_ex__',\n",
       " '__repr__',\n",
       " '__setattr__',\n",
       " '__sizeof__',\n",
       " '__str__',\n",
       " '__subclasshook__',\n",
       " '__weakref__',\n",
       " 'buckets',\n",
       " 'create_bucket',\n",
       " 'get_available_subresources',\n",
       " 'meta']"
      ]
     },
     "execution_count": 5,
     "metadata": {},
     "output_type": "execute_result"
    }
   ],
   "source": [
    "dir(s3)"
   ]
  },
  {
   "cell_type": "code",
   "execution_count": 9,
   "metadata": {},
   "outputs": [
    {
     "name": "stdout",
     "output_type": "stream",
     "text": [
      "s3.Bucket(name='aws-athena-query-results-399633467708-us-east-1')\n",
      "s3.Bucket(name='aws-glue-scripts-399633467708-us-east-1')\n",
      "s3.Bucket(name='aws-glue-temporary-399633467708-us-east-1')\n",
      "s3.Bucket(name='cf-templates-a5i474vrgmi9-ap-southeast-2')\n",
      "s3.Bucket(name='cf-templates-a5i474vrgmi9-eu-north-1')\n",
      "s3.Bucket(name='cf-templates-a5i474vrgmi9-us-east-1')\n",
      "s3.Bucket(name='secondpythonbucket6e36c55b-34ba-4bed-b583-3b71982c480b')\n",
      "s3.Bucket(name='tho-user-data')\n",
      "s3.Bucket(name='uho-automating-boto3')\n",
      "s3.Bucket(name='uho-bigdatacert')\n",
      "s3.Bucket(name='uho-glue-user-data-output')\n",
      "s3.Bucket(name='uho-mywebserverbucket')\n",
      "s3.Bucket(name='uho-pythonetl-output')\n",
      "s3.Bucket(name='uho-sagemaker-bucket')\n",
      "s3.Bucket(name='uho-sagemeker-data')\n",
      "s3.Bucket(name='uho-servelesswebsite')\n",
      "s3.Bucket(name='uho-snowflake-bucket')\n",
      "s3.Bucket(name='uho-travanalys')\n",
      "s3.Bucket(name='uho-wordpress-code')\n",
      "s3.Bucket(name='uho-wordpress-images')\n"
     ]
    }
   ],
   "source": [
    "for bucket in s3.buckets.all():\n",
    "    print(bucket)"
   ]
  },
  {
   "cell_type": "code",
   "execution_count": 11,
   "metadata": {},
   "outputs": [],
   "source": [
    "s3.create_bucket?"
   ]
  },
  {
   "cell_type": "code",
   "execution_count": 7,
   "metadata": {},
   "outputs": [],
   "source": [
    "new_bucket = s3.create_bucket(ACL = 'private',Bucket = 'uho-automating-boto3', CreateBucketConfiguration={\n",
    "        'LocationConstraint': 'eu-north-1'})"
   ]
  },
  {
   "cell_type": "code",
   "execution_count": 8,
   "metadata": {},
   "outputs": [
    {
     "data": {
      "text/plain": [
       "s3.Bucket(name='uho-automating-boto3')"
      ]
     },
     "execution_count": 8,
     "metadata": {},
     "output_type": "execute_result"
    }
   ],
   "source": [
    "new_bucket"
   ]
  },
  {
   "cell_type": "code",
   "execution_count": null,
   "metadata": {},
   "outputs": [],
   "source": []
  }
 ],
 "metadata": {
  "kernelspec": {
   "display_name": "Python 3",
   "language": "python",
   "name": "python3"
  },
  "language_info": {
   "codemirror_mode": {
    "name": "ipython",
    "version": 3
   },
   "file_extension": ".py",
   "mimetype": "text/x-python",
   "name": "python",
   "nbconvert_exporter": "python",
   "pygments_lexer": "ipython3",
   "version": "3.7.3"
  }
 },
 "nbformat": 4,
 "nbformat_minor": 2
}
